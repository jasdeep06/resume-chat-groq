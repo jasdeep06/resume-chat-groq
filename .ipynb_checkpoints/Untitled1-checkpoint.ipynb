{
 "cells": [
  {
   "cell_type": "code",
   "execution_count": 87,
   "id": "eab3969d-45ac-402c-948f-1c19114c0c8a",
   "metadata": {},
   "outputs": [
    {
     "data": {
      "text/plain": [
       "'IIT VARANASI BTECH(2013-2017) CHEMICAL ENGINEERING AND TECHNOLOGY CGPA: 8.40\\n\\nhttps://github.com/jasdeep06 , https://www.linkedin.com/in/jasdeepchhabra/ , https://jasdeep06.github.io/\\n\\n\\nCOURSERA’S DEEP LEARNING SPECIALIZATION\\n• Neural Networks and Deep\\nLearning (100 %grade)(https://www.coursera.org/account/accomplishments/certificate/WGQFQ48YQWU9)\\n• Improving Deep Neural\\nNetworks: Hyperparameter\\ntuning, Regularization and\\nOptimization (100 %grade)(https://www.coursera.org/account/accomplishments/certificate/ZQGLNKLAHME6)\\n• Structuring Machine Learning\\nProjects (100 %grade)(https://www.coursera.org/account/accomplishments/certificate/D5YZJFTCN3KL)\\nOTHER\\n• Coursera’s Machine Learning\\n(Stanford University/Andrew Ng)(https://www.coursera.org/account/accomplishments/certificate/K3FHF5GAVB7N)\\n\\n\\n\\nPROGRAMMING LANGUAGES\\nPython • Java • C •\\nAREAS OF INTEREST\\nDeep Learning • Natural Language\\nProcessing • Computer Vision •\\nLIBRARIES AND DATABASES\\nTensorflow • Numpy • Pandas\\n•Django •scikit-learn • Neo4j •\\nMongoDB• flask • pymongo •\\nSpacy •MATLAB •\\n\\n\\n\\nUDACITY | SELF DRIVING CAR NANODEGREE\\nDec 2017 – Present\\n• Pursuing self driving car nanodegree.\\nTEKTORCH(https://tektorch.com.au/) | MACHINE LEARNING DEVELOPER\\nMay 2017 – Present | Remote\\n• Worked on Natural Language models using Recurrent neural\\nnetworks in Tensorflow.\\n• Developed Chatbots(for banking and travel industries) using in\\nhouse NLP unit and MongoDB and flask for REST API.\\n• Predictive analysis in Kaggle competitions.\\nCONSTALYTICS(http://www.constalytics.com/) | DEEP LEARNING INTERN\\nOct 2017 – Present | Chandigarh\\n• Worked on deriving insights from unstructured data using\\nadvanced deep learning techniques.\\n• Worked with graph database(Neo4j) and graph analytics to\\nmonetize unstructured data.\\n• Major contributions from building annotation tool for data\\nlabelling to presenting the product to multinational clients.\\n\\n\\n\\nMACHINE LEARNING BLOG(https://jasdeep06.github.io/)\\nJan 2017 – Present\\nA popular machine learning blog consisting of posts ranging from explaining\\nbackpropagation to complex tensorflow implementations accompanied with\\nimplementation ofresearch papers.\\nTEXT GENERATOR\\nJuly 2017\\nBuilt a characterlevel text generator using Recurrent Neural\\nNetworks(RNNs,LSTMs),Embeddings,Language modelling in Tensorflow.When fed\\nwith a sample text file,the model generates similar styled text.Features such as\\ntraining resumption,intermediate sampling implemented.Effect of different learning\\nalgorithms and regularization techniques also explored.\\nKAGGLE COMPETITIONS\\nJun 2017-present\\nStood top 10(At the time of submission) in Kaggle’s House Prices Prediction\\ncompetition by implementing bagging,boosting and stacking of 8 advanced\\nregression models including Extreme Gradient Boosting(xgboost) and Gradient\\nBoosted Trees(GBT) using sklearn,numpy,pandas and scipy.\\nRESEARCH PROJECT\\nOct 2016-Dec 2016\\nA lab(research) project on prediction of polymer product quality in an industrial\\nreactor using recurrent neural networks based on the paper”Online prediction of\\npolymer product quality in an industrialreactor using recurrent neural networks” by\\nRandall S. Barton and David M. Himmelblau.\\n'"
      ]
     },
     "execution_count": 87,
     "metadata": {},
     "output_type": "execute_result"
    }
   ],
   "source": [
    "education_text = \"IIT VARANASI BTECH(2013-2017) CHEMICAL ENGINEERING AND TECHNOLOGY CGPA: 8.40\"\n",
    "links = \"https://github.com/jasdeep06 , https://www.linkedin.com/in/jasdeepchhabra/ , https://jasdeep06.github.io/\"\n",
    "certification_text = \"\"\"\n",
    "COURSERA’S DEEP LEARNING SPECIALIZATION\n",
    "• Neural Networks and Deep\n",
    "Learning (100 %grade)(https://www.coursera.org/account/accomplishments/certificate/WGQFQ48YQWU9)\n",
    "• Improving Deep Neural\n",
    "Networks: Hyperparameter\n",
    "tuning, Regularization and\n",
    "Optimization (100 %grade)(https://www.coursera.org/account/accomplishments/certificate/ZQGLNKLAHME6)\n",
    "• Structuring Machine Learning\n",
    "Projects (100 %grade)(https://www.coursera.org/account/accomplishments/certificate/D5YZJFTCN3KL)\n",
    "OTHER\n",
    "• Coursera’s Machine Learning\n",
    "(Stanford University/Andrew Ng)(https://www.coursera.org/account/accomplishments/certificate/K3FHF5GAVB7N)\n",
    "\"\"\"\n",
    "\n",
    "skills_text = \"\"\"\n",
    "PROGRAMMING LANGUAGES\n",
    "Python • Java • C •\n",
    "AREAS OF INTEREST\n",
    "Deep Learning • Natural Language\n",
    "Processing • Computer Vision •\n",
    "LIBRARIES AND DATABASES\n",
    "Tensorflow • Numpy • Pandas\n",
    "•Django •scikit-learn • Neo4j •\n",
    "MongoDB• flask • pymongo •\n",
    "Spacy •MATLAB •\n",
    "\"\"\"\n",
    "\n",
    "experience_text = \"\"\"\n",
    "UDACITY | SELF DRIVING CAR NANODEGREE\n",
    "Dec 2017 – Present\n",
    "• Pursuing self driving car nanodegree.\n",
    "TEKTORCH(https://tektorch.com.au/) | MACHINE LEARNING DEVELOPER\n",
    "May 2017 – Present | Remote\n",
    "• Worked on Natural Language models using Recurrent neural\n",
    "networks in Tensorflow.\n",
    "• Developed Chatbots(for banking and travel industries) using in\n",
    "house NLP unit and MongoDB and flask for REST API.\n",
    "• Predictive analysis in Kaggle competitions.\n",
    "CONSTALYTICS(http://www.constalytics.com/) | DEEP LEARNING INTERN\n",
    "Oct 2017 – Present | Chandigarh\n",
    "• Worked on deriving insights from unstructured data using\n",
    "advanced deep learning techniques.\n",
    "• Worked with graph database(Neo4j) and graph analytics to\n",
    "monetize unstructured data.\n",
    "• Major contributions from building annotation tool for data\n",
    "labelling to presenting the product to multinational clients.\n",
    "\"\"\"\n",
    "\n",
    "project_text = \"\"\"\n",
    "MACHINE LEARNING BLOG(https://jasdeep06.github.io/)\n",
    "Jan 2017 – Present\n",
    "A popular machine learning blog consisting of posts ranging from explaining\n",
    "backpropagation to complex tensorflow implementations accompanied with\n",
    "implementation ofresearch papers.\n",
    "TEXT GENERATOR\n",
    "July 2017\n",
    "Built a characterlevel text generator using Recurrent Neural\n",
    "Networks(RNNs,LSTMs),Embeddings,Language modelling in Tensorflow.When fed\n",
    "with a sample text file,the model generates similar styled text.Features such as\n",
    "training resumption,intermediate sampling implemented.Effect of different learning\n",
    "algorithms and regularization techniques also explored.\n",
    "KAGGLE COMPETITIONS\n",
    "Jun 2017-present\n",
    "Stood top 10(At the time of submission) in Kaggle’s House Prices Prediction\n",
    "competition by implementing bagging,boosting and stacking of 8 advanced\n",
    "regression models including Extreme Gradient Boosting(xgboost) and Gradient\n",
    "Boosted Trees(GBT) using sklearn,numpy,pandas and scipy.\n",
    "RESEARCH PROJECT\n",
    "Oct 2016-Dec 2016\n",
    "A lab(research) project on prediction of polymer product quality in an industrial\n",
    "reactor using recurrent neural networks based on the paper”Online prediction of\n",
    "polymer product quality in an industrialreactor using recurrent neural networks” by\n",
    "Randall S. Barton and David M. Himmelblau.\n",
    "\"\"\"\n",
    "\n",
    "\n",
    "all_text = \"\\n\\n\".join([education_text,links,certification_text,skills_text,experience_text,project_text])\n",
    "\n",
    "all_text\n"
   ]
  },
  {
   "cell_type": "code",
   "execution_count": 88,
   "id": "c94975e1-7f17-4347-9da3-13112fc2c1ca",
   "metadata": {},
   "outputs": [],
   "source": [
    "from llama_index.core import Document\n",
    "from llama_index.core.node_parser import SentenceSplitter\n",
    "from llama_index.llms.openai import OpenAI\n",
    "from llama_index.embeddings.openai import OpenAIEmbedding\n",
    "from llama_index.core import VectorStoreIndex\n",
    "from llama_index.core.response.notebook_utils import display_source_node\n",
    "from dotenv import load_dotenv\n",
    "from llama_index.core import Settings\n",
    "\n",
    "\n",
    "load_dotenv()\n",
    "\n",
    "Settings.llm = OpenAI(model='gpt-3.5-turbo')\n",
    "Settings.embed_model = OpenAIEmbedding(model=\"text-embedding-3-large\")"
   ]
  },
  {
   "cell_type": "code",
   "execution_count": 89,
   "id": "6856b236-fa03-4ea5-bfe8-3bc9dc2a29cd",
   "metadata": {},
   "outputs": [
    {
     "data": {
      "text/plain": [
       "{'education': [Document(id_='2830b2af-f59a-478b-85a4-54c86f3bf6c4', embedding=None, metadata={}, excluded_embed_metadata_keys=[], excluded_llm_metadata_keys=[], relationships={}, text='IIT VARANASI BTECH(2013-2017) CHEMICAL ENGINEERING AND TECHNOLOGY CGPA: 8.40', start_char_idx=None, end_char_idx=None, text_template='{metadata_str}\\n\\n{content}', metadata_template='{key}: {value}', metadata_seperator='\\n')],\n",
       " 'links': [Document(id_='3d614c65-044f-4705-9755-c882d9e45b38', embedding=None, metadata={}, excluded_embed_metadata_keys=[], excluded_llm_metadata_keys=[], relationships={}, text='https://github.com/jasdeep06 , https://www.linkedin.com/in/jasdeepchhabra/ , https://jasdeep06.github.io/', start_char_idx=None, end_char_idx=None, text_template='{metadata_str}\\n\\n{content}', metadata_template='{key}: {value}', metadata_seperator='\\n')],\n",
       " 'certification': [Document(id_='a20ab0e1-a953-476f-b7db-40a4050c8ff6', embedding=None, metadata={}, excluded_embed_metadata_keys=[], excluded_llm_metadata_keys=[], relationships={}, text='\\nCOURSERA’S DEEP LEARNING SPECIALIZATION\\n• Neural Networks and Deep\\nLearning (100 %grade)(https://www.coursera.org/account/accomplishments/certificate/WGQFQ48YQWU9)\\n• Improving Deep Neural\\nNetworks: Hyperparameter\\ntuning, Regularization and\\nOptimization (100 %grade)(https://www.coursera.org/account/accomplishments/certificate/ZQGLNKLAHME6)\\n• Structuring Machine Learning\\nProjects (100 %grade)(https://www.coursera.org/account/accomplishments/certificate/D5YZJFTCN3KL)\\nOTHER\\n• Coursera’s Machine Learning\\n(Stanford University/Andrew Ng)(https://www.coursera.org/account/accomplishments/certificate/K3FHF5GAVB7N)\\n', start_char_idx=None, end_char_idx=None, text_template='{metadata_str}\\n\\n{content}', metadata_template='{key}: {value}', metadata_seperator='\\n')],\n",
       " 'skills': [Document(id_='42257470-cc28-448d-bff9-ac6df13844dc', embedding=None, metadata={}, excluded_embed_metadata_keys=[], excluded_llm_metadata_keys=[], relationships={}, text='\\nPROGRAMMING LANGUAGES\\nPython • Java • C •\\nAREAS OF INTEREST\\nDeep Learning • Natural Language\\nProcessing • Computer Vision •\\nLIBRARIES AND DATABASES\\nTensorflow • Numpy • Pandas\\n•Django •scikit-learn • Neo4j •\\nMongoDB• flask • pymongo •\\nSpacy •MATLAB •\\n', start_char_idx=None, end_char_idx=None, text_template='{metadata_str}\\n\\n{content}', metadata_template='{key}: {value}', metadata_seperator='\\n')],\n",
       " 'experience': [Document(id_='4397bd5e-094a-48c5-b44c-aabbfe1eaf8d', embedding=None, metadata={}, excluded_embed_metadata_keys=[], excluded_llm_metadata_keys=[], relationships={}, text='\\nUDACITY | SELF DRIVING CAR NANODEGREE\\nDec 2017 – Present\\n• Pursuing self driving car nanodegree.\\nTEKTORCH(https://tektorch.com.au/) | MACHINE LEARNING DEVELOPER\\nMay 2017 – Present | Remote\\n• Worked on Natural Language models using Recurrent neural\\nnetworks in Tensorflow.\\n• Developed Chatbots(for banking and travel industries) using in\\nhouse NLP unit and MongoDB and flask for REST API.\\n• Predictive analysis in Kaggle competitions.\\nCONSTALYTICS(http://www.constalytics.com/) | DEEP LEARNING INTERN\\nOct 2017 – Present | Chandigarh\\n• Worked on deriving insights from unstructured data using\\nadvanced deep learning techniques.\\n• Worked with graph database(Neo4j) and graph analytics to\\nmonetize unstructured data.\\n• Major contributions from building annotation tool for data\\nlabelling to presenting the product to multinational clients.\\n', start_char_idx=None, end_char_idx=None, text_template='{metadata_str}\\n\\n{content}', metadata_template='{key}: {value}', metadata_seperator='\\n')],\n",
       " 'project': [Document(id_='524fb484-a250-448f-bd82-448f53b961e3', embedding=None, metadata={}, excluded_embed_metadata_keys=[], excluded_llm_metadata_keys=[], relationships={}, text='\\nMACHINE LEARNING BLOG(https://jasdeep06.github.io/)\\nJan 2017 – Present\\nA popular machine learning blog consisting of posts ranging from explaining\\nbackpropagation to complex tensorflow implementations accompanied with\\nimplementation ofresearch papers.\\nTEXT GENERATOR\\nJuly 2017\\nBuilt a characterlevel text generator using Recurrent Neural\\nNetworks(RNNs,LSTMs),Embeddings,Language modelling in Tensorflow.When fed\\nwith a sample text file,the model generates similar styled text.Features such as\\ntraining resumption,intermediate sampling implemented.Effect of different learning\\nalgorithms and regularization techniques also explored.\\nKAGGLE COMPETITIONS\\nJun 2017-present\\nStood top 10(At the time of submission) in Kaggle’s House Prices Prediction\\ncompetition by implementing bagging,boosting and stacking of 8 advanced\\nregression models including Extreme Gradient Boosting(xgboost) and Gradient\\nBoosted Trees(GBT) using sklearn,numpy,pandas and scipy.\\nRESEARCH PROJECT\\nOct 2016-Dec 2016\\nA lab(research) project on prediction of polymer product quality in an industrial\\nreactor using recurrent neural networks based on the paper”Online prediction of\\npolymer product quality in an industrialreactor using recurrent neural networks” by\\nRandall S. Barton and David M. Himmelblau.\\n', start_char_idx=None, end_char_idx=None, text_template='{metadata_str}\\n\\n{content}', metadata_template='{key}: {value}', metadata_seperator='\\n')],\n",
       " 'all': [Document(id_='40decaa4-eba5-45d1-a38b-feda9169287b', embedding=None, metadata={}, excluded_embed_metadata_keys=[], excluded_llm_metadata_keys=[], relationships={}, text='IIT VARANASI BTECH(2013-2017) CHEMICAL ENGINEERING AND TECHNOLOGY CGPA: 8.40\\n\\nhttps://github.com/jasdeep06 , https://www.linkedin.com/in/jasdeepchhabra/ , https://jasdeep06.github.io/\\n\\n\\nCOURSERA’S DEEP LEARNING SPECIALIZATION\\n• Neural Networks and Deep\\nLearning (100 %grade)(https://www.coursera.org/account/accomplishments/certificate/WGQFQ48YQWU9)\\n• Improving Deep Neural\\nNetworks: Hyperparameter\\ntuning, Regularization and\\nOptimization (100 %grade)(https://www.coursera.org/account/accomplishments/certificate/ZQGLNKLAHME6)\\n• Structuring Machine Learning\\nProjects (100 %grade)(https://www.coursera.org/account/accomplishments/certificate/D5YZJFTCN3KL)\\nOTHER\\n• Coursera’s Machine Learning\\n(Stanford University/Andrew Ng)(https://www.coursera.org/account/accomplishments/certificate/K3FHF5GAVB7N)\\n\\n\\n\\nPROGRAMMING LANGUAGES\\nPython • Java • C •\\nAREAS OF INTEREST\\nDeep Learning • Natural Language\\nProcessing • Computer Vision •\\nLIBRARIES AND DATABASES\\nTensorflow • Numpy • Pandas\\n•Django •scikit-learn • Neo4j •\\nMongoDB• flask • pymongo •\\nSpacy •MATLAB •\\n\\n\\n\\nUDACITY | SELF DRIVING CAR NANODEGREE\\nDec 2017 – Present\\n• Pursuing self driving car nanodegree.\\nTEKTORCH(https://tektorch.com.au/) | MACHINE LEARNING DEVELOPER\\nMay 2017 – Present | Remote\\n• Worked on Natural Language models using Recurrent neural\\nnetworks in Tensorflow.\\n• Developed Chatbots(for banking and travel industries) using in\\nhouse NLP unit and MongoDB and flask for REST API.\\n• Predictive analysis in Kaggle competitions.\\nCONSTALYTICS(http://www.constalytics.com/) | DEEP LEARNING INTERN\\nOct 2017 – Present | Chandigarh\\n• Worked on deriving insights from unstructured data using\\nadvanced deep learning techniques.\\n• Worked with graph database(Neo4j) and graph analytics to\\nmonetize unstructured data.\\n• Major contributions from building annotation tool for data\\nlabelling to presenting the product to multinational clients.\\n\\n\\n\\nMACHINE LEARNING BLOG(https://jasdeep06.github.io/)\\nJan 2017 – Present\\nA popular machine learning blog consisting of posts ranging from explaining\\nbackpropagation to complex tensorflow implementations accompanied with\\nimplementation ofresearch papers.\\nTEXT GENERATOR\\nJuly 2017\\nBuilt a characterlevel text generator using Recurrent Neural\\nNetworks(RNNs,LSTMs),Embeddings,Language modelling in Tensorflow.When fed\\nwith a sample text file,the model generates similar styled text.Features such as\\ntraining resumption,intermediate sampling implemented.Effect of different learning\\nalgorithms and regularization techniques also explored.\\nKAGGLE COMPETITIONS\\nJun 2017-present\\nStood top 10(At the time of submission) in Kaggle’s House Prices Prediction\\ncompetition by implementing bagging,boosting and stacking of 8 advanced\\nregression models including Extreme Gradient Boosting(xgboost) and Gradient\\nBoosted Trees(GBT) using sklearn,numpy,pandas and scipy.\\nRESEARCH PROJECT\\nOct 2016-Dec 2016\\nA lab(research) project on prediction of polymer product quality in an industrial\\nreactor using recurrent neural networks based on the paper”Online prediction of\\npolymer product quality in an industrialreactor using recurrent neural networks” by\\nRandall S. Barton and David M. Himmelblau.\\n', start_char_idx=None, end_char_idx=None, text_template='{metadata_str}\\n\\n{content}', metadata_template='{key}: {value}', metadata_seperator='\\n')]}"
      ]
     },
     "execution_count": 89,
     "metadata": {},
     "output_type": "execute_result"
    }
   ],
   "source": [
    "# education_docs = [Document(text=education_text)]\n",
    "# links_docs = [Document(text=links)]\n",
    "# certification_docs = [Document(text=certification_text)]\n",
    "# skills_docs = [Document(text=skills_text)]\n",
    "# experience_docs = [Document(text=experience_text)]\n",
    "# project_docs = [Document(text=project_text)]\n",
    "\n",
    "# all_docs = [Document(text=all_text)]\n",
    "\n",
    "text_dict = {\"education\":education_text,\"links\":links,\n",
    "             \"certification\":certification_text,\"skills\":skills_text,\n",
    "             \"experience\":experience_text,\"project\":project_text,\"all\":all_text}\n",
    "\n",
    "docs_dict = {key:[Document(text=value)] for key,value in text_dict.items()}\n",
    "docs_dict\n"
   ]
  },
  {
   "cell_type": "code",
   "execution_count": 90,
   "id": "290ee448-c9c4-464e-b1d9-01102a72ef62",
   "metadata": {},
   "outputs": [],
   "source": [
    "node_parser = SentenceSplitter(chunk_size=1024,chunk_overlap=0)\n"
   ]
  },
  {
   "cell_type": "code",
   "execution_count": 91,
   "id": "28c6de2a-d2be-4888-a830-f781e0758889",
   "metadata": {},
   "outputs": [
    {
     "data": {
      "text/plain": [
       "{'education': [TextNode(id_='e1e70a99-06d2-4a6a-958d-f6e5a9b58407', embedding=None, metadata={}, excluded_embed_metadata_keys=[], excluded_llm_metadata_keys=[], relationships={<NodeRelationship.SOURCE: '1'>: RelatedNodeInfo(node_id='2830b2af-f59a-478b-85a4-54c86f3bf6c4', node_type=<ObjectType.DOCUMENT: '4'>, metadata={}, hash='ac93618c25f4e9e89e48b3bc0989aded424692760c8a2e90318b364f97229768')}, text='IIT VARANASI BTECH(2013-2017) CHEMICAL ENGINEERING AND TECHNOLOGY CGPA: 8.40', start_char_idx=0, end_char_idx=76, text_template='{metadata_str}\\n\\n{content}', metadata_template='{key}: {value}', metadata_seperator='\\n')],\n",
       " 'links': [TextNode(id_='d7416138-612c-4ad6-a2fa-12be467c8cc8', embedding=None, metadata={}, excluded_embed_metadata_keys=[], excluded_llm_metadata_keys=[], relationships={<NodeRelationship.SOURCE: '1'>: RelatedNodeInfo(node_id='3d614c65-044f-4705-9755-c882d9e45b38', node_type=<ObjectType.DOCUMENT: '4'>, metadata={}, hash='c54545def240aaf24d8df2594bb0309fb33d2965e7fc7aec9ac1928c7efbaaf3')}, text='https://github.com/jasdeep06 , https://www.linkedin.com/in/jasdeepchhabra/ , https://jasdeep06.github.io/', start_char_idx=0, end_char_idx=105, text_template='{metadata_str}\\n\\n{content}', metadata_template='{key}: {value}', metadata_seperator='\\n')],\n",
       " 'certification': [TextNode(id_='2308409f-b2fc-46a2-87f5-990f03888fe9', embedding=None, metadata={}, excluded_embed_metadata_keys=[], excluded_llm_metadata_keys=[], relationships={<NodeRelationship.SOURCE: '1'>: RelatedNodeInfo(node_id='a20ab0e1-a953-476f-b7db-40a4050c8ff6', node_type=<ObjectType.DOCUMENT: '4'>, metadata={}, hash='f983490210e8f43b465270f524a772be146e35a2b521bb7a1660439f2545d6d1')}, text='COURSERA’S DEEP LEARNING SPECIALIZATION\\n• Neural Networks and Deep\\nLearning (100 %grade)(https://www.coursera.org/account/accomplishments/certificate/WGQFQ48YQWU9)\\n• Improving Deep Neural\\nNetworks: Hyperparameter\\ntuning, Regularization and\\nOptimization (100 %grade)(https://www.coursera.org/account/accomplishments/certificate/ZQGLNKLAHME6)\\n• Structuring Machine Learning\\nProjects (100 %grade)(https://www.coursera.org/account/accomplishments/certificate/D5YZJFTCN3KL)\\nOTHER\\n• Coursera’s Machine Learning\\n(Stanford University/Andrew Ng)(https://www.coursera.org/account/accomplishments/certificate/K3FHF5GAVB7N)', start_char_idx=1, end_char_idx=612, text_template='{metadata_str}\\n\\n{content}', metadata_template='{key}: {value}', metadata_seperator='\\n')],\n",
       " 'skills': [TextNode(id_='3683b07d-a6eb-436f-ac7e-775ac2b46e0a', embedding=None, metadata={}, excluded_embed_metadata_keys=[], excluded_llm_metadata_keys=[], relationships={<NodeRelationship.SOURCE: '1'>: RelatedNodeInfo(node_id='42257470-cc28-448d-bff9-ac6df13844dc', node_type=<ObjectType.DOCUMENT: '4'>, metadata={}, hash='0ff432b2318f82d2b06fb3b65ef6e6734cdb38ca9318b2a6241a6078bc67d1a5')}, text='PROGRAMMING LANGUAGES\\nPython • Java • C •\\nAREAS OF INTEREST\\nDeep Learning • Natural Language\\nProcessing • Computer Vision •\\nLIBRARIES AND DATABASES\\nTensorflow • Numpy • Pandas\\n•Django •scikit-learn • Neo4j •\\nMongoDB• flask • pymongo •\\nSpacy •MATLAB •', start_char_idx=1, end_char_idx=251, text_template='{metadata_str}\\n\\n{content}', metadata_template='{key}: {value}', metadata_seperator='\\n')],\n",
       " 'experience': [TextNode(id_='d8d96d4d-e741-440d-9695-d37450cab60a', embedding=None, metadata={}, excluded_embed_metadata_keys=[], excluded_llm_metadata_keys=[], relationships={<NodeRelationship.SOURCE: '1'>: RelatedNodeInfo(node_id='4397bd5e-094a-48c5-b44c-aabbfe1eaf8d', node_type=<ObjectType.DOCUMENT: '4'>, metadata={}, hash='40ab7f6fcec331d175f28f7f9df1eab4965a00d144be5c0744260c922c3ea421')}, text='UDACITY | SELF DRIVING CAR NANODEGREE\\nDec 2017 – Present\\n• Pursuing self driving car nanodegree.\\nTEKTORCH(https://tektorch.com.au/) | MACHINE LEARNING DEVELOPER\\nMay 2017 – Present | Remote\\n• Worked on Natural Language models using Recurrent neural\\nnetworks in Tensorflow.\\n• Developed Chatbots(for banking and travel industries) using in\\nhouse NLP unit and MongoDB and flask for REST API.\\n• Predictive analysis in Kaggle competitions.\\nCONSTALYTICS(http://www.constalytics.com/) | DEEP LEARNING INTERN\\nOct 2017 – Present | Chandigarh\\n• Worked on deriving insights from unstructured data using\\nadvanced deep learning techniques.\\n• Worked with graph database(Neo4j) and graph analytics to\\nmonetize unstructured data.\\n• Major contributions from building annotation tool for data\\nlabelling to presenting the product to multinational clients.', start_char_idx=1, end_char_idx=836, text_template='{metadata_str}\\n\\n{content}', metadata_template='{key}: {value}', metadata_seperator='\\n')],\n",
       " 'project': [TextNode(id_='269ee83f-f364-49d7-a267-ef93503f113c', embedding=None, metadata={}, excluded_embed_metadata_keys=[], excluded_llm_metadata_keys=[], relationships={<NodeRelationship.SOURCE: '1'>: RelatedNodeInfo(node_id='524fb484-a250-448f-bd82-448f53b961e3', node_type=<ObjectType.DOCUMENT: '4'>, metadata={}, hash='0cb9a8c55ae0063b4618b2a203d0bec57bad915d8b0c49de51fb800ebfdb1faf')}, text='MACHINE LEARNING BLOG(https://jasdeep06.github.io/)\\nJan 2017 – Present\\nA popular machine learning blog consisting of posts ranging from explaining\\nbackpropagation to complex tensorflow implementations accompanied with\\nimplementation ofresearch papers.\\nTEXT GENERATOR\\nJuly 2017\\nBuilt a characterlevel text generator using Recurrent Neural\\nNetworks(RNNs,LSTMs),Embeddings,Language modelling in Tensorflow.When fed\\nwith a sample text file,the model generates similar styled text.Features such as\\ntraining resumption,intermediate sampling implemented.Effect of different learning\\nalgorithms and regularization techniques also explored.\\nKAGGLE COMPETITIONS\\nJun 2017-present\\nStood top 10(At the time of submission) in Kaggle’s House Prices Prediction\\ncompetition by implementing bagging,boosting and stacking of 8 advanced\\nregression models including Extreme Gradient Boosting(xgboost) and Gradient\\nBoosted Trees(GBT) using sklearn,numpy,pandas and scipy.\\nRESEARCH PROJECT\\nOct 2016-Dec 2016\\nA lab(research) project on prediction of polymer product quality in an industrial\\nreactor using recurrent neural networks based on the paper”Online prediction of\\npolymer product quality in an industrialreactor using recurrent neural networks” by\\nRandall S. Barton and David M. Himmelblau.', start_char_idx=1, end_char_idx=1274, text_template='{metadata_str}\\n\\n{content}', metadata_template='{key}: {value}', metadata_seperator='\\n')],\n",
       " 'all': [TextNode(id_='d9eab503-729a-4fd4-bc54-dcf346e9e926', embedding=None, metadata={}, excluded_embed_metadata_keys=[], excluded_llm_metadata_keys=[], relationships={<NodeRelationship.SOURCE: '1'>: RelatedNodeInfo(node_id='40decaa4-eba5-45d1-a38b-feda9169287b', node_type=<ObjectType.DOCUMENT: '4'>, metadata={}, hash='a0908eb0ff47ca8d87537fbd018b74d3b4cbe08406fd49c76a01c2b764d8d7f2')}, text='IIT VARANASI BTECH(2013-2017) CHEMICAL ENGINEERING AND TECHNOLOGY CGPA: 8.40\\n\\nhttps://github.com/jasdeep06 , https://www.linkedin.com/in/jasdeepchhabra/ , https://jasdeep06.github.io/\\n\\n\\nCOURSERA’S DEEP LEARNING SPECIALIZATION\\n• Neural Networks and Deep\\nLearning (100 %grade)(https://www.coursera.org/account/accomplishments/certificate/WGQFQ48YQWU9)\\n• Improving Deep Neural\\nNetworks: Hyperparameter\\ntuning, Regularization and\\nOptimization (100 %grade)(https://www.coursera.org/account/accomplishments/certificate/ZQGLNKLAHME6)\\n• Structuring Machine Learning\\nProjects (100 %grade)(https://www.coursera.org/account/accomplishments/certificate/D5YZJFTCN3KL)\\nOTHER\\n• Coursera’s Machine Learning\\n(Stanford University/Andrew Ng)(https://www.coursera.org/account/accomplishments/certificate/K3FHF5GAVB7N)\\n\\n\\n\\nPROGRAMMING LANGUAGES\\nPython • Java • C •\\nAREAS OF INTEREST\\nDeep Learning • Natural Language\\nProcessing • Computer Vision •\\nLIBRARIES AND DATABASES\\nTensorflow • Numpy • Pandas\\n•Django •scikit-learn • Neo4j •\\nMongoDB• flask • pymongo •\\nSpacy •MATLAB •\\n\\n\\n\\nUDACITY | SELF DRIVING CAR NANODEGREE\\nDec 2017 – Present\\n• Pursuing self driving car nanodegree.\\nTEKTORCH(https://tektorch.com.au/) | MACHINE LEARNING DEVELOPER\\nMay 2017 – Present | Remote\\n• Worked on Natural Language models using Recurrent neural\\nnetworks in Tensorflow.\\n• Developed Chatbots(for banking and travel industries) using in\\nhouse NLP unit and MongoDB and flask for REST API.\\n• Predictive analysis in Kaggle competitions.\\nCONSTALYTICS(http://www.constalytics.com/) | DEEP LEARNING INTERN\\nOct 2017 – Present | Chandigarh\\n• Worked on deriving insights from unstructured data using\\nadvanced deep learning techniques.\\n• Worked with graph database(Neo4j) and graph analytics to\\nmonetize unstructured data.\\n• Major contributions from building annotation tool for data\\nlabelling to presenting the product to multinational clients.\\n\\n\\n\\nMACHINE LEARNING BLOG(https://jasdeep06.github.io/)\\nJan 2017 – Present\\nA popular machine learning blog consisting of posts ranging from explaining\\nbackpropagation to complex tensorflow implementations accompanied with\\nimplementation ofresearch papers.\\nTEXT GENERATOR\\nJuly 2017\\nBuilt a characterlevel text generator using Recurrent Neural\\nNetworks(RNNs,LSTMs),Embeddings,Language modelling in Tensorflow.When fed\\nwith a sample text file,the model generates similar styled text.Features such as\\ntraining resumption,intermediate sampling implemented.Effect of different learning\\nalgorithms and regularization techniques also explored.\\nKAGGLE COMPETITIONS\\nJun 2017-present\\nStood top 10(At the time of submission) in Kaggle’s House Prices Prediction\\ncompetition by implementing bagging,boosting and stacking of 8 advanced\\nregression models including Extreme Gradient Boosting(xgboost) and Gradient\\nBoosted Trees(GBT) using sklearn,numpy,pandas and scipy.\\nRESEARCH PROJECT\\nOct 2016-Dec 2016\\nA lab(research) project on prediction of polymer product quality in an industrial\\nreactor using recurrent neural networks based on the paper”Online prediction of\\npolymer product quality in an industrialreactor using recurrent neural networks” by\\nRandall S. Barton and David M. Himmelblau.', start_char_idx=0, end_char_idx=3167, text_template='{metadata_str}\\n\\n{content}', metadata_template='{key}: {value}', metadata_seperator='\\n')]}"
      ]
     },
     "execution_count": 91,
     "metadata": {},
     "output_type": "execute_result"
    }
   ],
   "source": [
    "# docs_dict['education'].id_\n",
    "# education_nodes = node_parser.get_nodes_from_documents(docs_dict['education'])\n",
    "# links_nodes = node_parser.get_nodes_from_documents(links_docs)\n",
    "# certification_nodes = node_parser.get_nodes_from_documents(certification_docs)\n",
    "# skills_nodes = node_parser.get_nodes_from_documents(skills_docs)\n",
    "# experience_nodes = node_parser.get_nodes_from_documents(experience_docs)\n",
    "# project_nodes = node_parser.get_nodes_from_documents(project_docs)\n",
    "# all_nodes = node_parser.get_nodes_from_documents(all_docs)\n",
    "\n",
    "# print(education_nodes)\n",
    "\n",
    "nodes_dict = {key:node_parser.get_nodes_from_documents(value) for key,value in docs_dict.items()}\n",
    "nodes_dict"
   ]
  },
  {
   "cell_type": "code",
   "execution_count": 68,
   "id": "3cd921f1-9954-4603-9f24-8612618398e0",
   "metadata": {},
   "outputs": [
    {
     "name": "stdout",
     "output_type": "stream",
     "text": [
      "{'context': \"Jasdeep Singh Chhabra's CV - education\"}\n",
      "{'context': \"Jasdeep Singh Chhabra's CV - links\"}\n",
      "{'context': \"Jasdeep Singh Chhabra's CV - certification\"}\n",
      "{'context': \"Jasdeep Singh Chhabra's CV - skills\"}\n",
      "{'context': \"Jasdeep Singh Chhabra's CV - experience\"}\n",
      "{'context': \"Jasdeep Singh Chhabra's CV - project\"}\n",
      "{'context': \"Jasdeep Singh Chhabra's CV - all\"}\n"
     ]
    }
   ],
   "source": [
    "for key,value in nodes_dict.items():\n",
    "    value[0].metadata['context'] = \"Jasdeep Singh Chhabra's CV - \" + key\n",
    "    print(value[0].metadata)\n"
   ]
  },
  {
   "cell_type": "code",
   "execution_count": 69,
   "id": "2ae4a096-af69-4489-bc69-02b14f309c18",
   "metadata": {},
   "outputs": [
    {
     "data": {
      "text/plain": [
       "{'education': <llama_index.core.indices.vector_store.base.VectorStoreIndex at 0x2c5029406d0>,\n",
       " 'links': <llama_index.core.indices.vector_store.base.VectorStoreIndex at 0x2c5028cfa90>,\n",
       " 'certification': <llama_index.core.indices.vector_store.base.VectorStoreIndex at 0x2c500354790>,\n",
       " 'skills': <llama_index.core.indices.vector_store.base.VectorStoreIndex at 0x2c50293d610>,\n",
       " 'experience': <llama_index.core.indices.vector_store.base.VectorStoreIndex at 0x2c5028d1880>,\n",
       " 'project': <llama_index.core.indices.vector_store.base.VectorStoreIndex at 0x2c500c74790>,\n",
       " 'all': <llama_index.core.indices.vector_store.base.VectorStoreIndex at 0x2c500c745b0>}"
      ]
     },
     "execution_count": 69,
     "metadata": {},
     "output_type": "execute_result"
    }
   ],
   "source": [
    "index_dict = {key:VectorStoreIndex(value) for key,value in nodes_dict.items()}\n",
    "index_dict"
   ]
  },
  {
   "cell_type": "code",
   "execution_count": 70,
   "id": "8b9029c7-0680-4729-a0b1-d030c797451d",
   "metadata": {},
   "outputs": [
    {
     "data": {
      "text/plain": [
       "{'education': <llama_index.core.query_engine.retriever_query_engine.RetrieverQueryEngine at 0x2c500b1f400>,\n",
       " 'links': <llama_index.core.query_engine.retriever_query_engine.RetrieverQueryEngine at 0x2c500b1ffd0>,\n",
       " 'certification': <llama_index.core.query_engine.retriever_query_engine.RetrieverQueryEngine at 0x2c500b1f2e0>,\n",
       " 'skills': <llama_index.core.query_engine.retriever_query_engine.RetrieverQueryEngine at 0x2c502906dc0>,\n",
       " 'experience': <llama_index.core.query_engine.retriever_query_engine.RetrieverQueryEngine at 0x2c502906b20>,\n",
       " 'project': <llama_index.core.query_engine.retriever_query_engine.RetrieverQueryEngine at 0x2c502906c10>,\n",
       " 'all': <llama_index.core.query_engine.retriever_query_engine.RetrieverQueryEngine at 0x2c502885b80>}"
      ]
     },
     "execution_count": 70,
     "metadata": {},
     "output_type": "execute_result"
    }
   ],
   "source": [
    "query_engine_dict = {key:value.as_query_engine() for key,value in index_dict.items()}\n",
    "query_engine_dict"
   ]
  },
  {
   "cell_type": "code",
   "execution_count": 83,
   "id": "d606f20b-0b9e-45dd-a062-4bae15d109ca",
   "metadata": {},
   "outputs": [],
   "source": [
    "from llama_index.core.tools import QueryEngineTool\n",
    "\n",
    "\n",
    "education_tool = QueryEngineTool.from_defaults(\n",
    "    query_engine=query_engine_dict[\"education\"],\n",
    "    description=(\n",
    "        \"Useful for questions related to education information of the candidate.\"\n",
    "    ),\n",
    ")\n",
    "links_tool = QueryEngineTool.from_defaults(\n",
    "    query_engine=query_engine_dict[\"links\"],\n",
    "    description=(\n",
    "        \"Useful for questions of links of linkedin, blog and github of the candidate.\"\n",
    "    ),\n",
    ")\n",
    "certifications_tool = QueryEngineTool.from_defaults(\n",
    "    query_engine=query_engine_dict[\"certification\"],\n",
    "    description=(\n",
    "        \"Useful for questions regarding certifications obtained by the candidate. \"\n",
    "    ),\n",
    ")\n",
    "skills_tool = QueryEngineTool.from_defaults(\n",
    "    query_engine=query_engine_dict[\"skills\"],\n",
    "    description=(\n",
    "        \"Useful for questions related to programming languages known, areas of interest and libraries and databases that the candidate is aware of.\"\n",
    "    ),\n",
    ")\n",
    "experience_tool = QueryEngineTool.from_defaults(\n",
    "    query_engine=query_engine_dict[\"experience\"],\n",
    "    description=(\n",
    "        \"Useful for questions related to experience of candidate in with different employer, the things he has worked on, time period of employment and name of employer\"\n",
    "    ),\n",
    ")\n",
    "project_tool = QueryEngineTool.from_defaults(\n",
    "    query_engine=query_engine_dict[\"project\"],\n",
    "    description=(\n",
    "        \"Useful for questions related to projects candidate has done outside his employment\"\n",
    "    ),\n",
    ")\n",
    "\n",
    "# all_tool = QueryEngineTool.from_defaults(\n",
    "#     query_engine=query_engine_dict[\"all\"],\n",
    "#     description=(\n",
    "#         \"\"\"      \n",
    "#         Useful for questions related to multiple aspects\n",
    "#         that are not covered by single label of education/links/certifications/skills/experience/project.\n",
    "#         For example - What technlogies has the candidate worked on? This question will require both experience and project information so this\n",
    "#         is useful as this contains the full resume of the candidate.\n",
    "#         \"\"\"\n",
    "#     ),\n",
    "# )\n",
    "\n",
    "\n"
   ]
  },
  {
   "cell_type": "code",
   "execution_count": 84,
   "id": "59e8f822-74ae-46c9-bfdb-796c09770d51",
   "metadata": {},
   "outputs": [],
   "source": [
    "from llama_index.core.query_engine import RouterQueryEngine\n",
    "from llama_index.core.selectors import LLMSingleSelector, LLMMultiSelector\n",
    "\n",
    "query_engine = RouterQueryEngine(\n",
    "    selector=LLMMultiSelector.from_defaults(),\n",
    "    query_engine_tools=[\n",
    "        education_tool,\n",
    "        links_tool,\n",
    "        certifications_tool,\n",
    "        skills_tool,\n",
    "        experience_tool,\n",
    "        project_tool,\n",
    "        # all_tool\n",
    "    ],\n",
    "    verbose=True\n",
    ")\n",
    "\n"
   ]
  },
  {
   "cell_type": "code",
   "execution_count": 85,
   "id": "a462102c-acfa-46ca-8331-254cbf1266b3",
   "metadata": {},
   "outputs": [
    {
     "name": "stdout",
     "output_type": "stream",
     "text": [
      "\u001b[1;3;38;5;200mSelecting query engine 3: Useful for questions related to programming languages known, areas of interest and libraries and databases that the candidate is aware of..\n",
      "\u001b[0m\u001b[1;3;38;5;200mSelecting query engine 5: Useful for questions related to projects candidate has done outside his employment..\n",
      "\u001b[0m"
     ]
    }
   ],
   "source": [
    "response = query_engine.query(\"Has Jasdeep any experience in python? Can you give examples?\")"
   ]
  },
  {
   "cell_type": "code",
   "execution_count": 86,
   "id": "ecd124f7-8e5f-4f9b-94ca-f62744c71fdd",
   "metadata": {},
   "outputs": [
    {
     "data": {
      "text/plain": [
       "Response(response=\"Yes, Jasdeep Singh Chhabra has experience in Python. For example, he utilized Python-based libraries like sklearn, numpy, pandas, and scipy in the Kaggle's House Prices Prediction competition. Additionally, he implemented various advanced regression models including Extreme Gradient Boosting (xgboost) and Gradient Boosted Trees (GBT) through bagging, boosting, and stacking techniques.\", source_nodes=[NodeWithScore(node=TextNode(id_='9444cc40-fc48-44c9-97e2-95adb589a120', embedding=None, metadata={'context': \"Jasdeep Singh Chhabra's CV - skills\"}, excluded_embed_metadata_keys=[], excluded_llm_metadata_keys=[], relationships={<NodeRelationship.SOURCE: '1'>: RelatedNodeInfo(node_id='95d3a403-d524-4099-940f-ede16f557467', node_type=<ObjectType.DOCUMENT: '4'>, metadata={}, hash='0ff432b2318f82d2b06fb3b65ef6e6734cdb38ca9318b2a6241a6078bc67d1a5')}, text='PROGRAMMING LANGUAGES\\nPython • Java • C •\\nAREAS OF INTEREST\\nDeep Learning • Natural Language\\nProcessing • Computer Vision •\\nLIBRARIES AND DATABASES\\nTensorflow • Numpy • Pandas\\n•Django •scikit-learn • Neo4j •\\nMongoDB• flask • pymongo •\\nSpacy •MATLAB •', start_char_idx=1, end_char_idx=251, text_template='{metadata_str}\\n\\n{content}', metadata_template='{key}: {value}', metadata_seperator='\\n'), score=0.5730723260854154), NodeWithScore(node=TextNode(id_='c27bef64-549a-46c0-a286-c1fad12ce2db', embedding=None, metadata={'context': \"Jasdeep Singh Chhabra's CV - project\"}, excluded_embed_metadata_keys=[], excluded_llm_metadata_keys=[], relationships={<NodeRelationship.SOURCE: '1'>: RelatedNodeInfo(node_id='2292840a-62cd-4acd-b172-fb6900ed59d5', node_type=<ObjectType.DOCUMENT: '4'>, metadata={}, hash='0cb9a8c55ae0063b4618b2a203d0bec57bad915d8b0c49de51fb800ebfdb1faf')}, text='MACHINE LEARNING BLOG(https://jasdeep06.github.io/)\\nJan 2017 – Present\\nA popular machine learning blog consisting of posts ranging from explaining\\nbackpropagation to complex tensorflow implementations accompanied with\\nimplementation ofresearch papers.\\nTEXT GENERATOR\\nJuly 2017\\nBuilt a characterlevel text generator using Recurrent Neural\\nNetworks(RNNs,LSTMs),Embeddings,Language modelling in Tensorflow.When fed\\nwith a sample text file,the model generates similar styled text.Features such as\\ntraining resumption,intermediate sampling implemented.Effect of different learning\\nalgorithms and regularization techniques also explored.\\nKAGGLE COMPETITIONS\\nJun 2017-present\\nStood top 10(At the time of submission) in Kaggle’s House Prices Prediction\\ncompetition by implementing bagging,boosting and stacking of 8 advanced\\nregression models including Extreme Gradient Boosting(xgboost) and Gradient\\nBoosted Trees(GBT) using sklearn,numpy,pandas and scipy.\\nRESEARCH PROJECT\\nOct 2016-Dec 2016\\nA lab(research) project on prediction of polymer product quality in an industrial\\nreactor using recurrent neural networks based on the paper”Online prediction of\\npolymer product quality in an industrialreactor using recurrent neural networks” by\\nRandall S. Barton and David M. Himmelblau.', start_char_idx=1, end_char_idx=1274, text_template='{metadata_str}\\n\\n{content}', metadata_template='{key}: {value}', metadata_seperator='\\n'), score=0.4988531340687291)], metadata={'selector_result': MultiSelection(selections=[SingleSelection(index=3, reason='Useful for questions related to programming languages known, areas of interest and libraries and databases that the candidate is aware of.'), SingleSelection(index=5, reason='Useful for questions related to projects candidate has done outside his employment.')])})"
      ]
     },
     "execution_count": 86,
     "metadata": {},
     "output_type": "execute_result"
    }
   ],
   "source": [
    "response"
   ]
  },
  {
   "cell_type": "code",
   "execution_count": 7,
   "id": "ed33aae0-e47b-4054-b59f-2adc120ac8ce",
   "metadata": {},
   "outputs": [
    {
     "data": {
      "text/plain": [
       "True"
      ]
     },
     "execution_count": 7,
     "metadata": {},
     "output_type": "execute_result"
    }
   ],
   "source": [
    "from pinecone import Pinecone,ServerlessSpec\n",
    "from dotenv import load_dotenv\n",
    "load_dotenv()"
   ]
  },
  {
   "cell_type": "code",
   "execution_count": 19,
   "id": "472a31e9-94a8-48d3-9ab2-9e1907264e27",
   "metadata": {},
   "outputs": [],
   "source": [
    "pc = Pinecone()"
   ]
  },
  {
   "cell_type": "code",
   "execution_count": 92,
   "id": "4b0f86a5-4611-4ab1-950e-ac4434a13f2e",
   "metadata": {},
   "outputs": [],
   "source": [
    "# pc.create_index(\n",
    "#     name=\"test\",\n",
    "#     metric=\"cosine\",\n",
    "#     dimension=1536,\n",
    "#     spec=ServerlessSpec(cloud=\"aws\", region=\"us-west-2\"),\n",
    "# )\n",
    "\n",
    "pc_index = pc.Index('test')"
   ]
  },
  {
   "cell_type": "code",
   "execution_count": 93,
   "id": "d59808f0-cf15-436a-bef6-e0709d010ec3",
   "metadata": {},
   "outputs": [],
   "source": [
    "from llama_index.vector_stores.pinecone import PineconeVectorStore\n",
    "from llama_index.core import VectorStoreIndex\n",
    "from llama_index.core import StorageContext\n",
    "\n",
    "\n"
   ]
  },
  {
   "cell_type": "code",
   "execution_count": 94,
   "id": "62ce1ed5-1f37-4002-a436-04246e8cf6ce",
   "metadata": {},
   "outputs": [],
   "source": [
    "vector_store = PineconeVectorStore(pinecone_index=pc_index)\n",
    "storage_context = StorageContext.from_defaults(vector_store=vector_store)\n",
    "\n"
   ]
  },
  {
   "cell_type": "code",
   "execution_count": 23,
   "id": "53934efa-81fb-45f3-97a7-aca4f76696ef",
   "metadata": {},
   "outputs": [
    {
     "data": {
      "application/vnd.jupyter.widget-view+json": {
       "model_id": "c95d44fb35114513b41015d33171e472",
       "version_major": 2,
       "version_minor": 0
      },
      "text/plain": [
       "Upserted vectors:   0%|          | 0/1 [00:00<?, ?it/s]"
      ]
     },
     "metadata": {},
     "output_type": "display_data"
    },
    {
     "data": {
      "application/vnd.jupyter.widget-view+json": {
       "model_id": "cda4b3ca9b0146678062144d6230ab01",
       "version_major": 2,
       "version_minor": 0
      },
      "text/plain": [
       "Upserted vectors:   0%|          | 0/1 [00:00<?, ?it/s]"
      ]
     },
     "metadata": {},
     "output_type": "display_data"
    },
    {
     "data": {
      "application/vnd.jupyter.widget-view+json": {
       "model_id": "c36cc63a89394144bfffad9c0a429f15",
       "version_major": 2,
       "version_minor": 0
      },
      "text/plain": [
       "Upserted vectors:   0%|          | 0/1 [00:00<?, ?it/s]"
      ]
     },
     "metadata": {},
     "output_type": "display_data"
    },
    {
     "data": {
      "application/vnd.jupyter.widget-view+json": {
       "model_id": "d9008085126d499e9688a403e5e41525",
       "version_major": 2,
       "version_minor": 0
      },
      "text/plain": [
       "Upserted vectors:   0%|          | 0/1 [00:00<?, ?it/s]"
      ]
     },
     "metadata": {},
     "output_type": "display_data"
    },
    {
     "data": {
      "application/vnd.jupyter.widget-view+json": {
       "model_id": "000cc211c17446678bc9bcecaf48b243",
       "version_major": 2,
       "version_minor": 0
      },
      "text/plain": [
       "Upserted vectors:   0%|          | 0/1 [00:00<?, ?it/s]"
      ]
     },
     "metadata": {},
     "output_type": "display_data"
    },
    {
     "data": {
      "application/vnd.jupyter.widget-view+json": {
       "model_id": "daf3634de93249c6a2209316bdf240d3",
       "version_major": 2,
       "version_minor": 0
      },
      "text/plain": [
       "Upserted vectors:   0%|          | 0/1 [00:00<?, ?it/s]"
      ]
     },
     "metadata": {},
     "output_type": "display_data"
    },
    {
     "data": {
      "application/vnd.jupyter.widget-view+json": {
       "model_id": "b90ab43e355240ea8fdc77bf4862e29d",
       "version_major": 2,
       "version_minor": 0
      },
      "text/plain": [
       "Upserted vectors:   0%|          | 0/1 [00:00<?, ?it/s]"
      ]
     },
     "metadata": {},
     "output_type": "display_data"
    },
    {
     "data": {
      "text/plain": [
       "{'education': <llama_index.core.indices.vector_store.base.VectorStoreIndex at 0x2c57c201430>,\n",
       " 'links': <llama_index.core.indices.vector_store.base.VectorStoreIndex at 0x2c57f8e47c0>,\n",
       " 'certification': <llama_index.core.indices.vector_store.base.VectorStoreIndex at 0x2c5003300d0>,\n",
       " 'skills': <llama_index.core.indices.vector_store.base.VectorStoreIndex at 0x2c57c1317c0>,\n",
       " 'experience': <llama_index.core.indices.vector_store.base.VectorStoreIndex at 0x2c500361b50>,\n",
       " 'project': <llama_index.core.indices.vector_store.base.VectorStoreIndex at 0x2c57c931850>,\n",
       " 'all': <llama_index.core.indices.vector_store.base.VectorStoreIndex at 0x2c50024bfd0>}"
      ]
     },
     "execution_count": 23,
     "metadata": {},
     "output_type": "execute_result"
    }
   ],
   "source": [
    "index_dict = {key:VectorStoreIndex(value,storage_context=storage_context) for key,value in nodes_dict.items()}\n",
    "index_dict"
   ]
  },
  {
   "cell_type": "code",
   "execution_count": 24,
   "id": "df5468b9-f3a2-4c1f-8bb5-7524e1e096c1",
   "metadata": {},
   "outputs": [
    {
     "data": {
      "text/plain": [
       "{'education': <llama_index.core.query_engine.retriever_query_engine.RetrieverQueryEngine at 0x2c5002ace80>,\n",
       " 'links': <llama_index.core.query_engine.retriever_query_engine.RetrieverQueryEngine at 0x2c50024b340>,\n",
       " 'certification': <llama_index.core.query_engine.retriever_query_engine.RetrieverQueryEngine at 0x2c5004072e0>,\n",
       " 'skills': <llama_index.core.query_engine.retriever_query_engine.RetrieverQueryEngine at 0x2c500407430>,\n",
       " 'experience': <llama_index.core.query_engine.retriever_query_engine.RetrieverQueryEngine at 0x2c500407580>,\n",
       " 'project': <llama_index.core.query_engine.retriever_query_engine.RetrieverQueryEngine at 0x2c5004076d0>,\n",
       " 'all': <llama_index.core.query_engine.retriever_query_engine.RetrieverQueryEngine at 0x2c500407820>}"
      ]
     },
     "execution_count": 24,
     "metadata": {},
     "output_type": "execute_result"
    }
   ],
   "source": [
    "query_engine_dict = {key:value.as_query_engine() for key,value in index_dict.items()}\n",
    "query_engine_dict"
   ]
  },
  {
   "cell_type": "code",
   "execution_count": null,
   "id": "57ca1564-0f01-4e47-9f19-63374b8688ec",
   "metadata": {},
   "outputs": [],
   "source": []
  }
 ],
 "metadata": {
  "kernelspec": {
   "display_name": "Python 3 (ipykernel)",
   "language": "python",
   "name": "python3"
  },
  "language_info": {
   "codemirror_mode": {
    "name": "ipython",
    "version": 3
   },
   "file_extension": ".py",
   "mimetype": "text/x-python",
   "name": "python",
   "nbconvert_exporter": "python",
   "pygments_lexer": "ipython3",
   "version": "3.9.7"
  }
 },
 "nbformat": 4,
 "nbformat_minor": 5
}
